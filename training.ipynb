{
 "cells": [
  {
   "cell_type": "code",
   "execution_count": 69,
   "metadata": {},
   "outputs": [],
   "source": [
    "import torch\n",
    "import torch.nn as nn\n",
    "import torch.nn.functional as F\n",
    "from torch import optim\n",
    "import numpy\n",
    "from torch.optim import Adam, SGD\n",
    "from torch.utils.data import TensorDataset, DataLoader, random_split\n",
    "from torch.utils.tensorboard import SummaryWriter\n",
    "from datetime import datetime\n",
    "import chess\n",
    "import chess.engine\n",
    "import random\n",
    "import numpy"
   ]
  },
  {
   "cell_type": "code",
   "execution_count": 70,
   "metadata": {},
   "outputs": [],
   "source": [
    "#design model \n",
    "class ChessCNN(nn.Module):\n",
    "  def __init__(self):\n",
    "    super(ChessCNN, self).__init__()\n",
    "    self.conv1 = nn.Conv2d(14, 32, kernel_size=3, padding=1)\n",
    "    self.conv2 = nn.Conv2d(32, 64, kernel_size=3, padding=1)\n",
    "    self.conv3 = nn.Conv2d(64, 128, kernel_size=3, padding=1)\n",
    "    self.conv4 = nn.Conv2d(128, 256, kernel_size=3, padding=1)\n",
    "    self.fc1 = nn.Linear(256 * 8 * 8, 1024)\n",
    "    self.fc2 = nn.Linear(1024, 8 * 8)\n",
    "\n",
    "  def forward(self, x):\n",
    "    x = torch.relu(self.conv1(x))\n",
    "    x = torch.relu(self.conv2(x))\n",
    "    x = torch.relu(self.conv3(x))\n",
    "    x = torch.relu(self.conv4(x))\n",
    "    x = x.view(-1, 256 * 8 * 8)\n",
    "    x = torch.relu(self.fc1(x))\n",
    "    x = self.fc2(x)\n",
    "    #output = torch.softmax(x)\n",
    "    return x.view(-1, 8, 8)\n",
    "    #return output"
   ]
  },
  {
   "cell_type": "code",
   "execution_count": 71,
   "metadata": {},
   "outputs": [],
   "source": [
    "# Create an instance of the model\n",
    "model = ChessCNN()\n",
    "\n",
    "# Define a loss function and optimizer\n",
    "criterion = nn.MSELoss()\n",
    "optimizer = optim.Adam(model.parameters(), lr=0.001)"
   ]
  },
  {
   "cell_type": "code",
   "execution_count": 72,
   "metadata": {},
   "outputs": [],
   "source": [
    "data = numpy.load(\"fishybear2_black.npz\", allow_pickle=True)\n",
    "positions, scores = [data[key] for key in data]\n",
    "\n",
    "tensor_x = torch.Tensor(positions)\n",
    "tensor_y = torch.Tensor(scores)\n",
    "\n",
    "data = TensorDataset(tensor_x, tensor_y)\n",
    "\n",
    "train_set, val_set = random_split(data, lengths = [int(len(scores) * 0.85), len(scores) - int(len(scores) * 0.85)], \n",
    "    generator = torch.Generator().manual_seed(2024))\n",
    "\n",
    "b_size = 64\n",
    "\n",
    "train_loader = DataLoader(train_set, batch_size = b_size, shuffle = True, num_workers = 2)\n",
    "\n",
    "val_loader = DataLoader(val_set, batch_size = b_size, shuffle = False, num_workers = 2)"
   ]
  },
  {
   "cell_type": "code",
   "execution_count": 73,
   "metadata": {},
   "outputs": [],
   "source": [
    "def train_one_epoch():\n",
    "    running_loss = 0.0\n",
    "    last_loss = 0.0\n",
    "\n",
    "    for i, data in enumerate(train_loader):\n",
    "        inputs, labels = data\n",
    "\n",
    "        optimizer.zero_grad()\n",
    "\n",
    "        outputs = model(inputs)\n",
    "\n",
    "\n",
    "        loss = criterion(outputs, labels)\n",
    "        loss.backward()\n",
    "\n",
    "        optimizer.step()\n",
    "\n",
    "        running_loss += loss.item()\n",
    "        if i % 1000 == 999:\n",
    "            last_loss = running_loss / 1000\n",
    "            running_loss = 0.\n",
    "\n",
    "    return last_loss"
   ]
  },
  {
   "cell_type": "code",
   "execution_count": 74,
   "metadata": {},
   "outputs": [],
   "source": [
    "epoch_number = 0\n",
    "\n",
    "EPOCHS = 7\n",
    "\n",
    "best_vloss = 1_000_000"
   ]
  },
  {
   "cell_type": "code",
   "execution_count": 75,
   "metadata": {},
   "outputs": [
    {
     "name": "stdout",
     "output_type": "stream",
     "text": [
      "EPOCH 1:\n"
     ]
    },
    {
     "name": "stdout",
     "output_type": "stream",
     "text": [
      "LOSS train 0.0 valid 0.013642985373735428\n",
      "EPOCH 2:\n",
      "LOSS train 0.0 valid 0.013032774440944195\n",
      "EPOCH 3:\n",
      "LOSS train 0.0 valid 0.012853332795202732\n",
      "EPOCH 4:\n",
      "LOSS train 0.0 valid 0.012511886656284332\n",
      "EPOCH 5:\n",
      "LOSS train 0.0 valid 0.012423526495695114\n",
      "EPOCH 6:\n",
      "LOSS train 0.0 valid 0.012328531593084335\n",
      "EPOCH 7:\n",
      "LOSS train 0.0 valid 0.012485136277973652\n"
     ]
    }
   ],
   "source": [
    "for epoch in range(EPOCHS):\n",
    "    print(\"EPOCH {}:\".format(epoch_number + 1))\n",
    "\n",
    "    model.train(True) #sets to training mode\n",
    "    avg_loss = train_one_epoch()\n",
    "\n",
    "    model.train(False) #sets to evaluation mode\n",
    "\n",
    "    running_vloss = 0.0\n",
    "    for i, vdata in enumerate(val_loader):\n",
    "        vinputs, vlabels = vdata\n",
    "        voutputs = model(vinputs)\n",
    "        vloss = criterion(voutputs, vlabels)\n",
    "        running_vloss += vloss\n",
    "\n",
    "    avg_vloss = running_vloss / (i + 1)\n",
    "    print(\"LOSS train {} valid {}\".format(avg_loss, avg_vloss))\n",
    "\n",
    "    if avg_vloss < best_vloss:\n",
    "        best_vloss = avg_vloss\n",
    "        torch.save(model.state_dict(), \"best_model2.h5\")\n",
    "\n",
    "    epoch_number += 1"
   ]
  }
 ],
 "metadata": {
  "kernelspec": {
   "display_name": "Python 3",
   "language": "python",
   "name": "python3"
  },
  "language_info": {
   "codemirror_mode": {
    "name": "ipython",
    "version": 3
   },
   "file_extension": ".py",
   "mimetype": "text/x-python",
   "name": "python",
   "nbconvert_exporter": "python",
   "pygments_lexer": "ipython3",
   "version": "3.10.5"
  }
 },
 "nbformat": 4,
 "nbformat_minor": 2
}
